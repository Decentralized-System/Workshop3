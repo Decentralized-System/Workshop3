{
 "cells": [
  {
   "cell_type": "code",
   "execution_count": 7,
   "metadata": {},
   "outputs": [],
   "source": [
    "from sklearn.datasets import load_iris\n",
    "from sklearn.model_selection import train_test_split\n",
    "\n",
    "iris_data=load_iris()"
   ]
  },
  {
   "cell_type": "code",
   "execution_count": 8,
   "metadata": {},
   "outputs": [
    {
     "name": "stdout",
     "output_type": "stream",
     "text": [
      "Feature names: ['sepal length (cm)', 'sepal width (cm)', 'petal length (cm)', 'petal width (cm)']\n",
      "First 5 rows of features:\n",
      " [[5.1 3.5 1.4 0.2]\n",
      " [4.9 3.  1.4 0.2]\n",
      " [4.7 3.2 1.3 0.2]\n",
      " [4.6 3.1 1.5 0.2]\n",
      " [5.  3.6 1.4 0.2]]\n",
      "\n",
      "Target names (species): ['setosa' 'versicolor' 'virginica']\n",
      "First 5 target values: [0 0 0 0 0]\n"
     ]
    }
   ],
   "source": [
    "# Features names and target values\n",
    "print(\"Feature names:\", iris_data.feature_names)\n",
    "print(\"First 5 rows of features:\\n\", iris_data.data[:5])\n",
    "print(\"\\nTarget names (species):\", iris_data.target_names)\n",
    "print(\"First 5 target values:\", iris_data.target[:5])"
   ]
  },
  {
   "cell_type": "code",
   "execution_count": 9,
   "metadata": {},
   "outputs": [],
   "source": [
    "# We split the data into training and testing sets\n",
    "\n",
    "X_train, X_test, y_train, y_test = train_test_split(iris_data.data, iris_data.target, test_size=0.3, random_state=42)"
   ]
  },
  {
   "cell_type": "code",
   "execution_count": 10,
   "metadata": {},
   "outputs": [
    {
     "name": "stdout",
     "output_type": "stream",
     "text": [
      "Probability of each class:\n",
      " [[0.00853766 0.87223876 0.11922357]\n",
      " [0.93745199 0.04275456 0.01979345]\n",
      " [0.01838676 0.00313397 0.97847927]\n",
      " [0.009174   0.87123835 0.11958765]\n",
      " [0.01177556 0.7521716  0.23605284]\n",
      " [0.94450895 0.03912324 0.01636781]\n",
      " [0.028569   0.96213989 0.00929111]\n",
      " [0.01301524 0.07560238 0.91138237]\n",
      " [0.00795508 0.82087085 0.17117407]\n",
      " [0.01420277 0.97647892 0.00931831]\n",
      " [0.01216931 0.14658708 0.84124361]\n",
      " [0.95745788 0.02882119 0.01372092]\n",
      " [0.96373401 0.02263448 0.01363151]\n",
      " [0.95319954 0.03251004 0.01429042]\n",
      " [0.96329943 0.02263456 0.01406601]\n",
      " [0.01331256 0.75153395 0.2351535 ]\n",
      " [0.00819663 0.00589657 0.9859068 ]\n",
      " [0.01291605 0.9776028  0.00948115]\n",
      " [0.00858012 0.90658325 0.08483663]\n",
      " [0.00823354 0.01008332 0.98168314]\n",
      " [0.94829191 0.03641293 0.01529515]\n",
      " [0.01203078 0.36249716 0.62547206]\n",
      " [0.94435896 0.0395239  0.01611715]\n",
      " [0.0083363  0.01296982 0.97869388]\n",
      " [0.02076522 0.01102071 0.96821407]\n",
      " [0.01093391 0.04501506 0.94405103]\n",
      " [0.00903862 0.01373408 0.97722729]\n",
      " [0.00913265 0.00468546 0.98618189]\n",
      " [0.9515971  0.03383765 0.01456525]\n",
      " [0.94274352 0.04149966 0.01575682]\n",
      " [0.97986102 0.00971055 0.01042843]\n",
      " [0.95591663 0.02487289 0.01921048]\n",
      " [0.01385966 0.93768807 0.04845227]\n",
      " [0.95428667 0.03104618 0.01466715]\n",
      " [0.9672886  0.01983473 0.01287667]\n",
      " [0.01100842 0.1779275  0.81106407]\n",
      " [0.01229786 0.89569419 0.09200795]\n",
      " [0.95841774 0.02742991 0.01415235]\n",
      " [0.96791749 0.01948318 0.01259933]\n",
      " [0.96879968 0.01732922 0.0138711 ]\n",
      " [0.01076782 0.12009121 0.86914097]\n",
      " [0.01366697 0.86374348 0.12258955]\n",
      " [0.01239569 0.79933472 0.18826959]\n",
      " [0.96704457 0.01903967 0.01391576]\n",
      " [0.95932726 0.02594045 0.01473228]]\n",
      "Accuracy: 1.0\n"
     ]
    }
   ],
   "source": [
    "# We can test a prediction model\n",
    "# We are going to use SVM:\n",
    "\n",
    "from sklearn import svm\n",
    "from sklearn.metrics import accuracy_score\n",
    "\n",
    "model=svm.SVC(probability=True)\n",
    "model.fit(X_train,y_train)\n",
    "y_pred=model.predict_proba(X_test)\n",
    "print(f\"Probability of each class:\\n {y_pred}\")\n",
    "y_pred=model.predict(X_test)\n",
    "accuracy=accuracy_score(y_pred,y_test)\n",
    "print(f\"Accuracy: {accuracy}\")"
   ]
  },
  {
   "cell_type": "markdown",
   "metadata": {},
   "source": [
    "The model seems to be extremely efficient to predict the type of petal since the probabilities are really distributed"
   ]
  },
  {
   "cell_type": "markdown",
   "metadata": {},
   "source": [
    "We are going to save our model in a joblib file"
   ]
  },
  {
   "cell_type": "code",
   "execution_count": 11,
   "metadata": {},
   "outputs": [
    {
     "data": {
      "text/plain": [
       "['iris_model_svm.joblib']"
      ]
     },
     "execution_count": 11,
     "metadata": {},
     "output_type": "execute_result"
    }
   ],
   "source": [
    "from joblib import dump,load\n",
    "\n",
    "dump(model,'iris_model_svm.joblib')"
   ]
  },
  {
   "cell_type": "markdown",
   "metadata": {},
   "source": [
    "Now lets try a logistic regression"
   ]
  },
  {
   "cell_type": "code",
   "execution_count": 12,
   "metadata": {},
   "outputs": [
    {
     "name": "stdout",
     "output_type": "stream",
     "text": [
      "Model accuracy: 100.00%\n"
     ]
    }
   ],
   "source": [
    "from sklearn.linear_model import LogisticRegression\n",
    "\n",
    "# Initialize the Logistic Regression model\n",
    "model = LogisticRegression(max_iter=200)\n",
    "\n",
    "# Train the model on the training set\n",
    "model.fit(X_train, y_train)\n",
    "\n",
    "# Predict on the testing set\n",
    "y_pred = model.predict(X_test)\n",
    "\n",
    "# Calculate the accuracy of the model\n",
    "accuracy = accuracy_score(y_test, y_pred)\n",
    "print(f\"Model accuracy: {accuracy * 100:.2f}%\")"
   ]
  },
  {
   "cell_type": "markdown",
   "metadata": {},
   "source": [
    "Save this model in a joblib file"
   ]
  },
  {
   "cell_type": "code",
   "execution_count": 13,
   "metadata": {},
   "outputs": [
    {
     "data": {
      "text/plain": [
       "['iris_model_regression.joblib']"
      ]
     },
     "execution_count": 13,
     "metadata": {},
     "output_type": "execute_result"
    }
   ],
   "source": [
    "from joblib import dump,load\n",
    "\n",
    "dump(model,'iris_model_regression.joblib')"
   ]
  },
  {
   "cell_type": "markdown",
   "metadata": {},
   "source": [
    "Random Forest Classifier"
   ]
  },
  {
   "cell_type": "code",
   "execution_count": 14,
   "metadata": {},
   "outputs": [
    {
     "name": "stdout",
     "output_type": "stream",
     "text": [
      "Predictions: [[0.   0.97 0.03]\n",
      " [1.   0.   0.  ]\n",
      " [0.   0.02 0.98]\n",
      " [0.   0.99 0.01]\n",
      " [0.   0.92 0.08]\n",
      " [1.   0.   0.  ]\n",
      " [0.   1.   0.  ]\n",
      " [0.   0.07 0.93]\n",
      " [0.   0.85 0.15]\n",
      " [0.   1.   0.  ]\n",
      " [0.   0.09 0.91]\n",
      " [1.   0.   0.  ]\n",
      " [0.95 0.05 0.  ]\n",
      " [1.   0.   0.  ]\n",
      " [1.   0.   0.  ]\n",
      " [0.   0.87 0.13]\n",
      " [0.   0.   1.  ]\n",
      " [0.   1.   0.  ]\n",
      " [0.   0.98 0.02]\n",
      " [0.   0.   1.  ]\n",
      " [1.   0.   0.  ]\n",
      " [0.   0.07 0.93]\n",
      " [1.   0.   0.  ]\n",
      " [0.   0.   1.  ]\n",
      " [0.   0.02 0.98]\n",
      " [0.   0.02 0.98]\n",
      " [0.   0.03 0.97]\n",
      " [0.   0.   1.  ]\n",
      " [1.   0.   0.  ]\n",
      " [1.   0.   0.  ]\n",
      " [1.   0.   0.  ]\n",
      " [1.   0.   0.  ]\n",
      " [0.01 0.99 0.  ]\n",
      " [1.   0.   0.  ]\n",
      " [1.   0.   0.  ]\n",
      " [0.   0.06 0.94]\n",
      " [0.   0.98 0.02]\n",
      " [1.   0.   0.  ]\n",
      " [1.   0.   0.  ]\n",
      " [1.   0.   0.  ]\n",
      " [0.   0.05 0.95]\n",
      " [0.02 0.9  0.08]\n",
      " [0.   1.   0.  ]\n",
      " [1.   0.   0.  ]\n",
      " [1.   0.   0.  ]]\n",
      "Model accuracy: 100.00%\n"
     ]
    }
   ],
   "source": [
    "from sklearn.ensemble import RandomForestClassifier\n",
    "\n",
    "rf_classifier = RandomForestClassifier(n_estimators=100, random_state=42)\n",
    "\n",
    "rf_classifier.fit(X_train, y_train)\n",
    "\n",
    "y_pred_probas = rf_classifier.predict_proba(X_test)\n",
    "print('Predictions:', y_pred_probas)\n",
    "\n",
    "y_pred = rf_classifier.predict(X_test)\n",
    "\n",
    "# Calculate the accuracy of the model\n",
    "accuracy = accuracy_score(y_test, y_pred)\n",
    "print(f\"Model accuracy: {accuracy * 100:.2f}%\")"
   ]
  },
  {
   "cell_type": "markdown",
   "metadata": {},
   "source": [
    "Save the model"
   ]
  },
  {
   "cell_type": "code",
   "execution_count": 15,
   "metadata": {},
   "outputs": [
    {
     "data": {
      "text/plain": [
       "['iris_model_random_forest.joblib']"
      ]
     },
     "execution_count": 15,
     "metadata": {},
     "output_type": "execute_result"
    }
   ],
   "source": [
    "from joblib import dump,load\n",
    "\n",
    "dump(model,'iris_model_random_forest.joblib')"
   ]
  },
  {
   "cell_type": "markdown",
   "metadata": {},
   "source": [
    "Simple API to make requests on with the 3 models combined"
   ]
  },
  {
   "cell_type": "code",
   "execution_count": 34,
   "metadata": {},
   "outputs": [
    {
     "name": "stdout",
     "output_type": "stream",
     "text": [
      " * Serving Flask app '__main__'\n",
      " * Debug mode: off\n"
     ]
    },
    {
     "name": "stderr",
     "output_type": "stream",
     "text": [
      "WARNING: This is a development server. Do not use it in a production deployment. Use a production WSGI server instead.\n",
      " * Running on http://127.0.0.1:5000\n",
      "Press CTRL+C to quit\n"
     ]
    },
    {
     "name": "stderr",
     "output_type": "stream",
     "text": [
      "127.0.0.1 - - [19/Feb/2024 22:14:04] \"GET / HTTP/1.1\" 200 -\n",
      "127.0.0.1 - - [19/Feb/2024 22:14:14] \"GET /predict/?L1=2.5&W1=5&L2=4.2&W2=1.5 HTTP/1.1\" 200 -\n"
     ]
    }
   ],
   "source": [
    "from flask import Flask, request, jsonify, render_template\n",
    "from joblib import load\n",
    "import numpy as np\n",
    "from sklearn.datasets import load_iris\n",
    "\n",
    "app = Flask(__name__)\n",
    "\n",
    "# Load the model\n",
    "model_svm = load('iris_model_svm.joblib')\n",
    "model_regression = load('iris_model_regression.joblib')\n",
    "model_randomF = load('iris_model_random_forest.joblib')\n",
    "\n",
    "# Make sure to load the iris dataset for target_names (assuming it's not already loaded)\n",
    "iris_data = load_iris()\n",
    "\n",
    "@app.route(\"/\")\n",
    "def read_root():\n",
    "    return render_template('base.html')\n",
    "\n",
    "\n",
    "@app.route('/predict/', methods=['GET'])\n",
    "def predict():\n",
    "    try:\n",
    "        L1 = float(request.args.get('L1'))\n",
    "        W1 = float(request.args.get('W1'))\n",
    "        L2 = float(request.args.get('L2'))\n",
    "        W2 = float(request.args.get('W2'))\n",
    "\n",
    "        testData = np.array([L1, W1, L2, W2]).reshape(-1, 4)\n",
    "\n",
    "        predict1=model_svm.predict_proba(testData)[0]\n",
    "        predict2=model_randomF.predict_proba(testData)[0]\n",
    "        predict3=model_regression.predict_proba(testData)[0]\n",
    "        \n",
    "        # We have the predictions of our 3 models now let's mix them to return a mix\n",
    "        setosa=(predict1[0]+predict2[0]+predict3[0])/3\n",
    "        versicolor=(predict1[1]+predict2[1]+predict3[1])/3\n",
    "        virginica=(predict1[2]+predict2[2]+predict3[2])/3\n",
    "\n",
    "        results={'setosa':setosa,'versicolor':versicolor,'virginica':virginica}\n",
    "        class_predicted=max(results, key=results.get)\n",
    "\n",
    "        # Standardized API response format\n",
    "        response = {\n",
    "            \"prediction\": class_predicted,\n",
    "            \"probabilities\": results\n",
    "        }\n",
    "\n",
    "    except Exception as e:\n",
    "        response = {\n",
    "            \"message\": str(e)\n",
    "        }\n",
    "\n",
    "    return jsonify(response)\n",
    "if __name__ == '__main__':\n",
    "    app.run(debug=False)"
   ]
  }
 ],
 "metadata": {
  "kernelspec": {
   "display_name": "Python 3",
   "language": "python",
   "name": "python3"
  },
  "language_info": {
   "codemirror_mode": {
    "name": "ipython",
    "version": 3
   },
   "file_extension": ".py",
   "mimetype": "text/x-python",
   "name": "python",
   "nbconvert_exporter": "python",
   "pygments_lexer": "ipython3",
   "version": "3.12.0"
  }
 },
 "nbformat": 4,
 "nbformat_minor": 2
}
