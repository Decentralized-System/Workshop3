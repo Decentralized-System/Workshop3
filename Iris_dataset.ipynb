{
 "cells": [
  {
   "cell_type": "code",
   "execution_count": 1,
   "metadata": {},
   "outputs": [],
   "source": [
    "from sklearn.datasets import load_iris\n",
    "from sklearn.model_selection import train_test_split\n",
    "\n",
    "iris_data=load_iris()"
   ]
  },
  {
   "cell_type": "code",
   "execution_count": 2,
   "metadata": {},
   "outputs": [
    {
     "name": "stdout",
     "output_type": "stream",
     "text": [
      "Feature names: ['sepal length (cm)', 'sepal width (cm)', 'petal length (cm)', 'petal width (cm)']\n",
      "First 5 rows of features:\n",
      " [[5.1 3.5 1.4 0.2]\n",
      " [4.9 3.  1.4 0.2]\n",
      " [4.7 3.2 1.3 0.2]\n",
      " [4.6 3.1 1.5 0.2]\n",
      " [5.  3.6 1.4 0.2]]\n",
      "\n",
      "Target names (species): ['setosa' 'versicolor' 'virginica']\n",
      "First 5 target values: [0 0 0 0 0]\n"
     ]
    }
   ],
   "source": [
    "# Features names and target values\n",
    "print(\"Feature names:\", iris_data.feature_names)\n",
    "print(\"First 5 rows of features:\\n\", iris_data.data[:5])\n",
    "print(\"\\nTarget names (species):\", iris_data.target_names)\n",
    "print(\"First 5 target values:\", iris_data.target[:5])"
   ]
  },
  {
   "cell_type": "code",
   "execution_count": 3,
   "metadata": {},
   "outputs": [],
   "source": [
    "# We split the data into training and testing sets\n",
    "\n",
    "X_train, X_test, y_train, y_test = train_test_split(iris_data.data, iris_data.target, test_size=0.8, random_state=42)"
   ]
  },
  {
   "cell_type": "code",
   "execution_count": 4,
   "metadata": {},
   "outputs": [
    {
     "name": "stdout",
     "output_type": "stream",
     "text": [
      "Probability of each class:\n",
      " [[0.03346461 0.70229104 0.26424434]\n",
      " [0.782712   0.15750736 0.05978064]\n",
      " [0.05128086 0.0287268  0.91999234]\n",
      " [0.03517948 0.70280313 0.26201739]\n",
      " [0.03593386 0.56961275 0.3944534 ]\n",
      " [0.81681291 0.13059073 0.05259636]\n",
      " [0.08566389 0.8434342  0.07090191]\n",
      " [0.03445142 0.17755625 0.78799233]\n",
      " [0.03239241 0.72756248 0.24004511]\n",
      " [0.05746133 0.86201226 0.08052641]\n",
      " [0.03249582 0.24384806 0.72365612]\n",
      " [0.85011205 0.10254605 0.0473419 ]\n",
      " [0.85126868 0.10134301 0.04738831]\n",
      " [0.8394361  0.11189603 0.04866787]\n",
      " [0.83481215 0.11241429 0.05277356]\n",
      " [0.03734263 0.54829622 0.41436115]\n",
      " [0.02677959 0.06742568 0.90579473]\n",
      " [0.05906929 0.86696338 0.07396733]\n",
      " [0.03571455 0.75494999 0.20933546]\n",
      " [0.02611245 0.09858399 0.87530356]\n",
      " [0.82475934 0.12260491 0.05263575]\n",
      " [0.03107517 0.41784278 0.55108206]\n",
      " [0.81255618 0.13307664 0.05436718]\n",
      " [0.02623369 0.10889809 0.86486822]\n",
      " [0.05693134 0.04423996 0.8988287 ]\n",
      " [0.03131278 0.15782984 0.81085738]\n",
      " [0.02771307 0.11315969 0.85912724]\n",
      " [0.03020605 0.04995671 0.91983724]\n",
      " [0.84057686 0.11006615 0.04935699]\n",
      " [0.82119662 0.12660526 0.05219813]\n",
      " [0.88493061 0.0697162  0.04535318]\n",
      " [0.8022185  0.13352314 0.06425836]\n",
      " [0.04354889 0.71876343 0.23768768]\n",
      " [0.82798806 0.11964934 0.05236259]\n",
      " [0.85947591 0.09121827 0.04930582]\n",
      " [0.02874514 0.36437905 0.60687581]\n",
      " [0.03996765 0.66818157 0.29185078]\n",
      " [0.83634819 0.11375355 0.04989826]\n",
      " [0.85287318 0.09865712 0.0484697 ]\n",
      " [0.83964325 0.10647987 0.05387688]\n",
      " [0.02739136 0.32528906 0.64731958]\n",
      " [0.04042361 0.64151181 0.31806458]\n",
      " [0.0381594  0.57188357 0.38995702]\n",
      " [0.84499987 0.10319233 0.05180781]\n",
      " [0.83218595 0.1163311  0.05148296]\n",
      " [0.07881213 0.86075728 0.06043059]\n",
      " [0.02990597 0.41774216 0.55235187]\n",
      " [0.0290317  0.16247405 0.80849425]\n",
      " [0.04138394 0.73082273 0.22779333]\n",
      " [0.03967343 0.03409344 0.92623314]\n",
      " [0.04388423 0.81977321 0.13634256]\n",
      " [0.04436389 0.03201308 0.92362303]\n",
      " [0.0366727  0.70144583 0.26188147]\n",
      " [0.85071817 0.10135865 0.04792318]\n",
      " [0.0470214  0.03437998 0.91859862]\n",
      " [0.052231   0.86056112 0.08720788]\n",
      " [0.84758228 0.10474478 0.04767293]\n",
      " [0.85832756 0.09431179 0.04736065]\n",
      " [0.75964101 0.17568579 0.06467319]\n",
      " [0.10950597 0.82390465 0.06658938]\n",
      " [0.03007527 0.43019967 0.53972506]\n",
      " [0.77511025 0.16448399 0.06040577]\n",
      " [0.81461918 0.13354176 0.05183906]\n",
      " [0.78164698 0.16008573 0.05826729]\n",
      " [0.04218119 0.82597179 0.13184702]\n",
      " [0.83729314 0.11319132 0.04951553]\n",
      " [0.04715171 0.82601268 0.12683561]\n",
      " [0.05629878 0.03132967 0.91237155]\n",
      " [0.85077711 0.10006445 0.04915843]\n",
      " [0.04115113 0.79607536 0.16277352]\n",
      " [0.0274956  0.35751426 0.61499014]\n",
      " [0.83677    0.10791234 0.05531765]\n",
      " [0.03174905 0.47182605 0.4964249 ]\n",
      " [0.02739136 0.32528906 0.64731958]\n",
      " [0.05137899 0.87465231 0.0739687 ]\n",
      " [0.03764953 0.70041788 0.2619326 ]\n",
      " [0.02945872 0.11330365 0.85723763]\n",
      " [0.0492322  0.8530879  0.0976799 ]\n",
      " [0.78957451 0.15012923 0.06029626]\n",
      " [0.14987951 0.78289373 0.06722677]\n",
      " [0.02791947 0.22330265 0.74877787]\n",
      " [0.84991911 0.10260174 0.04747915]\n",
      " [0.86852989 0.0871459  0.04432422]\n",
      " [0.06626907 0.86560481 0.06812612]\n",
      " [0.03383521 0.37067037 0.59549442]\n",
      " [0.83446877 0.11588739 0.04964384]\n",
      " [0.02797944 0.20164349 0.77037707]\n",
      " [0.83915744 0.11125442 0.04958814]\n",
      " [0.79915235 0.142813   0.05803465]\n",
      " [0.03344818 0.46090874 0.50564308]\n",
      " [0.21687882 0.70961094 0.07351024]\n",
      " [0.03115294 0.06698322 0.90186384]\n",
      " [0.02816137 0.40703963 0.56479901]\n",
      " [0.02722241 0.24695004 0.72582755]\n",
      " [0.04253591 0.04514999 0.91231409]\n",
      " [0.0506565  0.85037338 0.09897012]\n",
      " [0.84244225 0.10598585 0.0515719 ]\n",
      " [0.87383591 0.07882874 0.04733535]\n",
      " [0.02798692 0.52020236 0.45181072]\n",
      " [0.03469285 0.06903456 0.89627259]\n",
      " [0.83657808 0.11224921 0.05117271]\n",
      " [0.84589942 0.10510319 0.0489974 ]\n",
      " [0.85569798 0.09477009 0.04953193]\n",
      " [0.02981138 0.53947575 0.43071287]\n",
      " [0.02886698 0.07373759 0.89739543]\n",
      " [0.8489569  0.1004895  0.0505536 ]\n",
      " [0.02980622 0.11623236 0.85396142]\n",
      " [0.02828669 0.0382227  0.93349061]\n",
      " [0.86123377 0.09195287 0.04681335]\n",
      " [0.03313757 0.64570353 0.3211589 ]\n",
      " [0.03472959 0.65047501 0.3147954 ]\n",
      " [0.03094175 0.47793881 0.49111944]\n",
      " [0.04378863 0.57089487 0.38531649]\n",
      " [0.02966601 0.13360182 0.83673217]\n",
      " [0.82676409 0.11945491 0.053781  ]\n",
      " [0.03176856 0.13253344 0.835698  ]\n",
      " [0.04317674 0.78643513 0.17038813]\n",
      " [0.03026592 0.21770465 0.75202943]\n",
      " [0.10327813 0.8403718  0.05635007]\n",
      " [0.05958565 0.83667683 0.10373752]]\n",
      "Accuracy: 0.9333333333333333\n"
     ]
    }
   ],
   "source": [
    "# We can test a prediction model\n",
    "# We are going to use SVM:\n",
    "\n",
    "from sklearn import svm\n",
    "from sklearn.metrics import accuracy_score\n",
    "\n",
    "model=svm.SVC(probability=True)\n",
    "model.fit(X_train,y_train)\n",
    "y_pred=model.predict_proba(X_test)\n",
    "print(f\"Probability of each class:\\n {y_pred}\")\n",
    "y_pred=model.predict(X_test)\n",
    "accuracy=accuracy_score(y_pred,y_test)\n",
    "print(f\"Accuracy: {accuracy}\")"
   ]
  },
  {
   "cell_type": "markdown",
   "metadata": {},
   "source": [
    "The model seems to be extremely efficient to predict the type of petal since the probabilities are really distributed"
   ]
  },
  {
   "cell_type": "markdown",
   "metadata": {},
   "source": [
    "We are going to save our model in a joblib file"
   ]
  },
  {
   "cell_type": "code",
   "execution_count": 5,
   "metadata": {},
   "outputs": [
    {
     "data": {
      "text/plain": [
       "['iris_model.joblib']"
      ]
     },
     "execution_count": 5,
     "metadata": {},
     "output_type": "execute_result"
    }
   ],
   "source": [
    "from joblib import dump,load\n",
    "\n",
    "dump(model,'iris_model.joblib')"
   ]
  },
  {
   "cell_type": "code",
   "execution_count": 6,
   "metadata": {},
   "outputs": [
    {
     "name": "stdout",
     "output_type": "stream",
     "text": [
      " * Serving Flask app '__main__'\n",
      " * Debug mode: off\n"
     ]
    },
    {
     "name": "stderr",
     "output_type": "stream",
     "text": [
      "WARNING: This is a development server. Do not use it in a production deployment. Use a production WSGI server instead.\n",
      " * Running on http://127.0.0.1:5000\n",
      "Press CTRL+C to quit\n",
      "127.0.0.1 - - [12/Feb/2024 15:38:09] \"GET /predict?sepal_length=5.1&sepal_width=3.5&petal_length=1.4&petal_width=0.2 HTTP/1.1\" 200 -\n",
      "127.0.0.1 - - [12/Feb/2024 15:39:46] \"GET /predict?sepal_length=5.1&sepal_width=3.5&petal_length=1.4&petal_width=0.2 HTTP/1.1\" 200 -\n"
     ]
    }
   ],
   "source": [
    "from flask import Flask, request, jsonify\n",
    "from joblib import load\n",
    "import numpy as np\n",
    "\n",
    "app = Flask(__name__)\n",
    "\n",
    "# Load the model\n",
    "model = load('iris_model.joblib')\n",
    "\n",
    "# Make sure to load the iris dataset for target_names (assuming it's not already loaded)\n",
    "from sklearn.datasets import load_iris\n",
    "iris_data = load_iris()\n",
    "\n",
    "@app.route('/predict', methods=['GET'])\n",
    "def predict():\n",
    "    try:\n",
    "        # Extract features from query parameters\n",
    "        features = [float(request.args.get(feat)) for feat in ['sepal_length', 'sepal_width', 'petal_length', 'petal_width']]\n",
    "        \n",
    "        # Make prediction - Note the change here to wrap features in another list\n",
    "        prediction = model.predict([features])[0]\n",
    "        probas = model.predict_proba([features])[0]  # Wrap features in another list\n",
    "        species = iris_data.target_names[prediction]\n",
    "\n",
    "        probabilities_dict = {iris_data.target_names[i]: probas[i] for i in range(len(probas))}\n",
    "\n",
    "        # Standardized API response format\n",
    "        response = {\n",
    "            \"prediction\": species,\n",
    "            \"probabilities\": probabilities_dict\n",
    "        }\n",
    "\n",
    "    except Exception as e:\n",
    "        response = {\n",
    "            \"message\": str(e)\n",
    "        }\n",
    "\n",
    "    return jsonify(response)\n",
    "\n",
    "if __name__ == '__main__':\n",
    "    app.run(debug=False)\n"
   ]
  }
 ],
 "metadata": {
  "kernelspec": {
   "display_name": "Python 3",
   "language": "python",
   "name": "python3"
  },
  "language_info": {
   "codemirror_mode": {
    "name": "ipython",
    "version": 3
   },
   "file_extension": ".py",
   "mimetype": "text/x-python",
   "name": "python",
   "nbconvert_exporter": "python",
   "pygments_lexer": "ipython3",
   "version": "3.12.0"
  }
 },
 "nbformat": 4,
 "nbformat_minor": 2
}
