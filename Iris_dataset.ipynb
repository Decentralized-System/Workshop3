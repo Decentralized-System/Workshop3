{
 "cells": [
  {
   "cell_type": "code",
   "execution_count": 132,
   "metadata": {},
   "outputs": [],
   "source": [
    "from sklearn.datasets import load_iris\n",
    "from sklearn.model_selection import train_test_split\n",
    "\n",
    "iris_data=load_iris()"
   ]
  },
  {
   "cell_type": "code",
   "execution_count": 133,
   "metadata": {},
   "outputs": [
    {
     "name": "stdout",
     "output_type": "stream",
     "text": [
      "Feature names: ['sepal length (cm)', 'sepal width (cm)', 'petal length (cm)', 'petal width (cm)']\n",
      "First 5 rows of features:\n",
      " [[5.1 3.5 1.4 0.2]\n",
      " [4.9 3.  1.4 0.2]\n",
      " [4.7 3.2 1.3 0.2]\n",
      " [4.6 3.1 1.5 0.2]\n",
      " [5.  3.6 1.4 0.2]]\n",
      "\n",
      "Target names (species): ['setosa' 'versicolor' 'virginica']\n",
      "First 5 target values: [0 0 0 0 0]\n"
     ]
    }
   ],
   "source": [
    "# Features names and target values\n",
    "print(\"Feature names:\", iris_data.feature_names)\n",
    "print(\"First 5 rows of features:\\n\", iris_data.data[:5])\n",
    "print(\"\\nTarget names (species):\", iris_data.target_names)\n",
    "print(\"First 5 target values:\", iris_data.target[:5])"
   ]
  },
  {
   "cell_type": "code",
   "execution_count": 134,
   "metadata": {},
   "outputs": [],
   "source": [
    "# We split the data into training and testing sets\n",
    "\n",
    "X_train, X_test, y_train, y_test = train_test_split(iris_data.data, iris_data.target, test_size=0.8, random_state=42)"
   ]
  },
  {
   "cell_type": "code",
   "execution_count": 135,
   "metadata": {},
   "outputs": [
    {
     "name": "stdout",
     "output_type": "stream",
     "text": [
      "Probability of each class:\n",
      " [[0.03419823 0.73449337 0.23130841]\n",
      " [0.78621604 0.15564937 0.05813459]\n",
      " [0.05456227 0.02725968 0.91817805]\n",
      " [0.03594644 0.73482716 0.22922641]\n",
      " [0.03764961 0.60087194 0.36147845]\n",
      " [0.81972623 0.12906174 0.05121203]\n",
      " [0.0884057  0.8522178  0.0593765 ]\n",
      " [0.03635684 0.18134151 0.78230165]\n",
      " [0.03306672 0.75898322 0.20795006]\n",
      " [0.0590621  0.87560148 0.06533643]\n",
      " [0.03434195 0.25294749 0.71271056]\n",
      " [0.85267215 0.10133242 0.04599542]\n",
      " [0.85371085 0.1001512  0.04613795]\n",
      " [0.84208595 0.1105837  0.04733035]\n",
      " [0.83770453 0.11106158 0.05123389]\n",
      " [0.03850916 0.57928437 0.38220647]\n",
      " [0.02868143 0.06501812 0.90630045]\n",
      " [0.06077015 0.87920337 0.06002648]\n",
      " [0.03643266 0.78458682 0.17898053]\n",
      " [0.02782464 0.09727133 0.87490403]\n",
      " [0.82775611 0.12115212 0.05109177]\n",
      " [0.03240902 0.44159566 0.52599532]\n",
      " [0.81565266 0.13150767 0.05283967]\n",
      " [0.02790876 0.10809082 0.86400042]\n",
      " [0.06047293 0.0422708  0.89725626]\n",
      " [0.0331092  0.16013345 0.80675735]\n",
      " [0.02946535 0.11259249 0.85794216]\n",
      " [0.0323769  0.04734594 0.92027716]\n",
      " [0.84330191 0.10876263 0.04793545]\n",
      " [0.82416628 0.12511636 0.05071737]\n",
      " [0.88740048 0.06877058 0.04382894]\n",
      " [0.8060241  0.13187714 0.06209876]\n",
      " [0.04454973 0.7492583  0.20619197]\n",
      " [0.83092221 0.11822909 0.05084871]\n",
      " [0.86224973 0.09007063 0.04767963]\n",
      " [0.03014405 0.38396056 0.58589539]\n",
      " [0.04093104 0.70050401 0.25856495]\n",
      " [0.83902196 0.1124169  0.04856115]\n",
      " [0.85543907 0.09747194 0.04708899]\n",
      " [0.84261519 0.10516745 0.05221737]\n",
      " [0.0288322  0.34156012 0.62960768]\n",
      " [0.04211381 0.67343558 0.2844506 ]\n",
      " [0.03961248 0.60333687 0.35705065]\n",
      " [0.84778762 0.10193298 0.05027939]\n",
      " [0.83495649 0.11495645 0.05008705]\n",
      " [0.08136024 0.86817407 0.05046569]\n",
      " [0.03120737 0.44150328 0.52728935]\n",
      " [0.03068883 0.16510336 0.80420781]\n",
      " [0.04230318 0.76103061 0.1966662 ]\n",
      " [0.04236224 0.03192588 0.92571187]\n",
      " [0.04551586 0.84183709 0.11264705]\n",
      " [0.04729748 0.03009322 0.9226093 ]\n",
      " [0.03748175 0.73335779 0.22916046]\n",
      " [0.85323491 0.10015713 0.04660796]\n",
      " [0.05009132 0.03244566 0.91746302]\n",
      " [0.05244601 0.87712333 0.07043066]\n",
      " [0.85007905 0.10351572 0.04640523]\n",
      " [0.8608141  0.09317589 0.04601001]\n",
      " [0.7636505  0.17362102 0.06272847]\n",
      " [0.11307539 0.82940677 0.05751784]\n",
      " [0.03134564 0.4548642  0.51379016]\n",
      " [0.77881963 0.16255376 0.05862661]\n",
      " [0.81757147 0.13198394 0.0504446 ]\n",
      " [0.78514494 0.15820809 0.05664697]\n",
      " [0.04374545 0.84767908 0.10857547]\n",
      " [0.83995476 0.11186243 0.04818281]\n",
      " [0.04894794 0.84662745 0.10442461]\n",
      " [0.05981241 0.02989509 0.9102925 ]\n",
      " [0.8534893  0.0988512  0.0476595 ]\n",
      " [0.04113994 0.82265805 0.13620201]\n",
      " [0.02886588 0.37653532 0.5945988 ]\n",
      " [0.83983778 0.10657305 0.05358917]\n",
      " [0.03295563 0.49922223 0.46782215]\n",
      " [0.0288322  0.34156012 0.62960768]\n",
      " [0.05279391 0.88769803 0.05950807]\n",
      " [0.03849053 0.73225669 0.22925277]\n",
      " [0.03131656 0.11275911 0.85592434]\n",
      " [0.04980894 0.87101082 0.07918023]\n",
      " [0.79310806 0.14834785 0.05854409]\n",
      " [0.1546054  0.78489347 0.06050112]\n",
      " [0.02960686 0.2306277  0.73976544]\n",
      " [0.85242916 0.10139151 0.04617933]\n",
      " [0.87080698 0.08610452 0.0430885 ]\n",
      " [0.06828732 0.87595696 0.05575572]\n",
      " [0.03540476 0.39071232 0.57388292]\n",
      " [0.83720044 0.11452726 0.0482723 ]\n",
      " [0.03059151 0.20603201 0.76337648]\n",
      " [0.84183291 0.10994243 0.04822466]\n",
      " [0.80255734 0.14112048 0.05632218]\n",
      " [0.03473816 0.48758065 0.47768119]\n",
      " [0.22434765 0.70663351 0.06901883]\n",
      " [0.03333349 0.06460107 0.90206544]\n",
      " [0.02942871 0.43002582 0.54054546]\n",
      " [0.02883287 0.25632035 0.71484678]\n",
      " [0.0453849  0.04278196 0.91183314]\n",
      " [0.05121616 0.86842627 0.08035757]\n",
      " [0.845426   0.10469141 0.04988259]\n",
      " [0.87652915 0.07779092 0.04567993]\n",
      " [0.02897173 0.55035172 0.42067655]\n",
      " [0.03708122 0.06672938 0.8961894 ]\n",
      " [0.83946908 0.11090643 0.0496245 ]\n",
      " [0.84850253 0.10385599 0.04764148]\n",
      " [0.85850769 0.09359099 0.04790132]\n",
      " [0.03079731 0.57042744 0.39877525]\n",
      " [0.03087501 0.07151026 0.89761474]\n",
      " [0.85176447 0.09925776 0.04897777]\n",
      " [0.0316734  0.11585116 0.85247544]\n",
      " [0.03035386 0.03567271 0.93397343]\n",
      " [0.86374537 0.09083622 0.04541842]\n",
      " [0.03321056 0.67938188 0.28740757]\n",
      " [0.03588908 0.68313725 0.28097367]\n",
      " [0.03210882 0.50572436 0.46216682]\n",
      " [0.04429081 0.60292089 0.3527883 ]\n",
      " [0.03145243 0.13425269 0.83429488]\n",
      " [0.82974497 0.11802697 0.05222807]\n",
      " [0.03470813 0.13252486 0.83276702]\n",
      " [0.04315997 0.8136005  0.14323953]\n",
      " [0.03288972 0.22348616 0.74362412]\n",
      " [0.10670472 0.84429862 0.04899666]\n",
      " [0.06114124 0.85380636 0.0850524 ]]\n",
      "Accuracy: 0.9333333333333333\n"
     ]
    }
   ],
   "source": [
    "# We can test a prediction model\n",
    "# We are going to use SVM:\n",
    "\n",
    "from sklearn import svm\n",
    "from sklearn.metrics import accuracy_score\n",
    "\n",
    "model=svm.SVC(probability=True)\n",
    "model.fit(X_train,y_train)\n",
    "y_pred=model.predict_proba(X_test)\n",
    "print(f\"Probability of each class:\\n {y_pred}\")\n",
    "y_pred=model.predict(X_test)\n",
    "accuracy=accuracy_score(y_pred,y_test)\n",
    "print(f\"Accuracy: {accuracy}\")"
   ]
  },
  {
   "cell_type": "markdown",
   "metadata": {},
   "source": [
    "The model seems to be extremely efficient to predict the type of petal since the probabilities are really distributed"
   ]
  },
  {
   "cell_type": "markdown",
   "metadata": {},
   "source": [
    "We are going to save our model in a joblib file"
   ]
  },
  {
   "cell_type": "code",
   "execution_count": 136,
   "metadata": {},
   "outputs": [
    {
     "data": {
      "text/plain": [
       "['iris_model.joblib']"
      ]
     },
     "execution_count": 136,
     "metadata": {},
     "output_type": "execute_result"
    }
   ],
   "source": [
    "from joblib import dump,load\n",
    "\n",
    "dump(model,'iris_model.joblib')"
   ]
  },
  {
   "cell_type": "code",
   "execution_count": 137,
   "metadata": {},
   "outputs": [
    {
     "name": "stdout",
     "output_type": "stream",
     "text": [
      " * Serving Flask app '__main__'\n",
      " * Debug mode: off\n"
     ]
    },
    {
     "name": "stderr",
     "output_type": "stream",
     "text": [
      "WARNING: This is a development server. Do not use it in a production deployment. Use a production WSGI server instead.\n",
      " * Running on http://127.0.0.1:5000\n",
      "Press CTRL+C to quit\n"
     ]
    },
    {
     "name": "stderr",
     "output_type": "stream",
     "text": [
      "127.0.0.1 - - [05/Feb/2024 16:28:01] \"GET / HTTP/1.1\" 404 -\n",
      "127.0.0.1 - - [05/Feb/2024 16:28:05] \"GET /predict HTTP/1.1\" 200 -\n",
      "127.0.0.1 - - [05/Feb/2024 16:28:14] \"GET /predict?sepal_length=5.1&sepal_width=3.5&petal_length=1.4&petal_width=0.2 HTTP/1.1\" 200 -\n"
     ]
    }
   ],
   "source": [
    "from flask import Flask, request, jsonify\n",
    "from joblib import load\n",
    "import numpy as np\n",
    "\n",
    "app = Flask(__name__)\n",
    "\n",
    "# Load the model\n",
    "model = load('iris_model.joblib')\n",
    "\n",
    "# Make sure to load the iris dataset for target_names (assuming it's not already loaded)\n",
    "from sklearn.datasets import load_iris\n",
    "iris_data = load_iris()\n",
    "\n",
    "@app.route('/predict', methods=['GET'])\n",
    "def predict():\n",
    "    try:\n",
    "        # Extract features from query parameters\n",
    "        features = [float(request.args.get(feat)) for feat in ['sepal_length', 'sepal_width', 'petal_length', 'petal_width']]\n",
    "        \n",
    "        # Make prediction - Note the change here to wrap features in another list\n",
    "        prediction = model.predict([features])[0]\n",
    "        probas = model.predict_proba([features])[0]  # Wrap features in another list\n",
    "        species = iris_data.target_names[prediction]\n",
    "\n",
    "        probabilities_dict = {iris_data.target_names[i]: probas[i] for i in range(len(probas))}\n",
    "\n",
    "        # Standardized API response format\n",
    "        response = {\n",
    "            \"prediction\": species,\n",
    "            \"probabilities\": probabilities_dict\n",
    "        }\n",
    "\n",
    "    except Exception as e:\n",
    "        response = {\n",
    "            \"message\": str(e)\n",
    "        }\n",
    "\n",
    "    return jsonify(response)\n",
    "\n",
    "if __name__ == '__main__':\n",
    "    app.run(debug=False)\n"
   ]
  }
 ],
 "metadata": {
  "kernelspec": {
   "display_name": "Python 3",
   "language": "python",
   "name": "python3"
  },
  "language_info": {
   "codemirror_mode": {
    "name": "ipython",
    "version": 3
   },
   "file_extension": ".py",
   "mimetype": "text/x-python",
   "name": "python",
   "nbconvert_exporter": "python",
   "pygments_lexer": "ipython3",
   "version": "3.12.0"
  }
 },
 "nbformat": 4,
 "nbformat_minor": 2
}
